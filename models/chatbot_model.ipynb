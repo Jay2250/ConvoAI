{
 "cells": [
  {
   "cell_type": "markdown",
   "id": "931c5463-9985-4f63-a7b0-4e3de03d4365",
   "metadata": {},
   "source": [
    "# **Parameters**"
   ]
  },
  {
   "cell_type": "code",
   "execution_count": null,
   "id": "b00e0227-ce7e-4fe2-86a1-05b447d7c6f5",
   "metadata": {},
   "outputs": [],
   "source": [
    "datasetDir = '../datasets'\n",
    "modelDir = 'saved_models'"
   ]
  },
  {
   "cell_type": "code",
   "execution_count": null,
   "id": "af02dd12-bb0b-437f-909a-90dd2b700ba4",
   "metadata": {},
   "outputs": [],
   "source": [
    "Import Libraries"
   ]
  },
  {
   "cell_type": "code",
   "execution_count": null,
   "id": "67ed3419-914d-409b-b565-7997b0a1c360",
   "metadata": {},
   "outputs": [],
   "source": [
    "# Import necessary libraries\n",
    "import tensorflow as tf\n",
    "from transformers import TFGPT2LMHeadModel, GPT2Tokenizer\n",
    "import pandas as pd\n",
    "import json\n",
    "from sklearn.model_selection import train_test_split\n"
   ]
  },
  {
   "cell_type": "code",
   "execution_count": null,
   "id": "8dbc593e-404f-4ccf-bb3a-f62e7e9d2e56",
   "metadata": {},
   "outputs": [],
   "source": [
    "Load Preprocessed Data"
   ]
  },
  {
   "cell_type": "code",
   "execution_count": null,
   "id": "3df5d394-ab06-4449-8a55-9a613fb542f2",
   "metadata": {},
   "outputs": [],
   "source": [
    "# Load preprocessed data\n",
    "preprocessed_data_path = \"preprocessed_data.json\"\n",
    "\n",
    "# Load the JSON file into a DataFrame\n",
    "with open(preprocessed_data_path, \"r\") as f:\n",
    "    data = [json.loads(line) for line in f]\n",
    "\n",
    "df = pd.DataFrame(data)\n",
    "\n",
    "# Convert input_ids and attention_mask back to lists\n",
    "df[\"input_ids\"] = df[\"input_ids\"].apply(lambda x: list(map(int, x)))\n",
    "df[\"attention_mask\"] = df[\"attention_mask\"].apply(lambda x: list(map(int, x)))\n",
    "\n",
    "# Inspect the DataFrame\n",
    "print(\"Preprocessed data preview:\")\n",
    "print(df.head())\n"
   ]
  },
  {
   "cell_type": "code",
   "execution_count": null,
   "id": "fbb78e88-2349-4121-8923-58e83d451237",
   "metadata": {},
   "outputs": [],
   "source": [
    "Prepare Data for TensorFlow"
   ]
  },
  {
   "cell_type": "code",
   "execution_count": null,
   "id": "e2b485e3-5984-4c35-8be6-d16d0339831e",
   "metadata": {},
   "outputs": [],
   "source": [
    "# Convert the DataFrame into TensorFlow datasets\n",
    "X = tf.constant(df[\"input_ids\"].to_list())\n",
    "attention_masks = tf.constant(df[\"attention_mask\"].to_list())\n",
    "\n",
    "# Split into training and validation sets\n",
    "X_train, X_val, attn_train, attn_val = train_test_split(\n",
    "    X, attention_masks, test_size=0.2, random_state=42\n",
    ")\n",
    "\n",
    "# Create TensorFlow datasets\n",
    "batch_size = 8\n",
    "train_dataset = tf.data.Dataset.from_tensor_slices((X_train, X_train))\n",
    "val_dataset = tf.data.Dataset.from_tensor_slices((X_val, X_val))\n",
    "\n",
    "train_dataset = train_dataset.shuffle(1000).batch(batch_size).prefetch(tf.data.AUTOTUNE)\n",
    "val_dataset = val_dataset.batch(batch_size).prefetch(tf.data.AUTOTUNE)\n"
   ]
  },
  {
   "cell_type": "code",
   "execution_count": null,
   "id": "30739cc7-657e-40fe-84ca-f3b4ff39bcf1",
   "metadata": {},
   "outputs": [],
   "source": [
    "Load Pre-trained GPT-2 Model"
   ]
  },
  {
   "cell_type": "code",
   "execution_count": null,
   "id": "7151163d-9e9f-4c88-9444-6e308ae95705",
   "metadata": {},
   "outputs": [],
   "source": [
    "# Load the pre-trained GPT-2 model and tokenizer\n",
    "tokenizer = GPT2Tokenizer.from_pretrained(\"gpt2\")\n",
    "model = TFGPT2LMHeadModel.from_pretrained(\"gpt2\")\n",
    "\n",
    "# Resize token embeddings to include the added special token\n",
    "model.resize_token_embeddings(len(tokenizer))\n"
   ]
  },
  {
   "cell_type": "code",
   "execution_count": null,
   "id": "d777144f-1c6a-4849-b511-fd83531c497c",
   "metadata": {},
   "outputs": [],
   "source": [
    "Compile and Fine-tune the Model"
   ]
  },
  {
   "cell_type": "code",
   "execution_count": null,
   "id": "393d7104-0e34-441c-82c8-2daac5d46224",
   "metadata": {},
   "outputs": [],
   "source": [
    "# Compile the model\n",
    "optimizer = tf.keras.optimizers.Adam(learning_rate=5e-5)\n",
    "loss_fn = tf.keras.losses.SparseCategoricalCrossentropy(from_logits=True)\n",
    "model.compile(optimizer=optimizer, loss=loss_fn)\n",
    "\n",
    "# Fine-tune the model\n",
    "epochs = 3\n",
    "history = model.fit(\n",
    "    train_dataset, validation_data=val_dataset, epochs=epochs\n",
    ")\n"
   ]
  },
  {
   "cell_type": "code",
   "execution_count": null,
   "id": "3900a845-162f-4954-a2bc-6d311788abd9",
   "metadata": {},
   "outputs": [],
   "source": [
    "Save the Fine-tuned Model"
   ]
  },
  {
   "cell_type": "code",
   "execution_count": null,
   "id": "a30b60d4-e763-43f8-a7ff-2e35a9f9c3e7",
   "metadata": {},
   "outputs": [],
   "source": [
    "# Save the fine-tuned model and tokenizer\n",
    "output_dir = os.path.join(modelDir,\"chatbot_model\")\n",
    "model.save_pretrained(output_dir)\n",
    "tokenizer.save_pretrained(output_dir)\n",
    "\n",
    "print(f\"Model saved to {output_dir}\")\n"
   ]
  },
  {
   "cell_type": "code",
   "execution_count": null,
   "id": "dda3cb2e-5ffd-49d8-bc68-606541cd6800",
   "metadata": {},
   "outputs": [],
   "source": [
    "Test the Model"
   ]
  },
  {
   "cell_type": "code",
   "execution_count": null,
   "id": "f9b78daa-5ab2-4a02-bc43-6531e1fe79cd",
   "metadata": {},
   "outputs": [],
   "source": [
    "# Load the model and tokenizer for inference\n",
    "model = TFGPT2LMHeadModel.from_pretrained(output_dir)\n",
    "tokenizer = GPT2Tokenizer.from_pretrained(output_dir)\n",
    "\n",
    "# Generate a response\n",
    "def generate_response(prompt, max_length=50):\n",
    "    input_ids = tokenizer(prompt, return_tensors=\"tf\").input_ids\n",
    "    output_ids = model.generate(input_ids, max_length=max_length, pad_token_id=tokenizer.eos_token_id)\n",
    "    return tokenizer.decode(output_ids[0], skip_special_tokens=True)\n",
    "\n",
    "# Test the model\n",
    "user_input = \"Hello, how are you?\"\n",
    "response = generate_response(user_input)\n",
    "print(f\"User: {user_input}\")\n",
    "print(f\"Chatbot: {response}\")\n"
   ]
  },
  {
   "cell_type": "code",
   "execution_count": null,
   "id": "eadc7df4-6c4d-4f05-90ac-461a02e1530e",
   "metadata": {},
   "outputs": [],
   "source": []
  }
 ],
 "metadata": {
  "kernelspec": {
   "display_name": "Python 3 (ipykernel)",
   "language": "python",
   "name": "python3"
  },
  "language_info": {
   "codemirror_mode": {
    "name": "ipython",
    "version": 3
   },
   "file_extension": ".py",
   "mimetype": "text/x-python",
   "name": "python",
   "nbconvert_exporter": "python",
   "pygments_lexer": "ipython3",
   "version": "3.12.4"
  }
 },
 "nbformat": 4,
 "nbformat_minor": 5
}
