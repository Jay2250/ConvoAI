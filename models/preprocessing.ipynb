{
 "cells": [
  {
   "cell_type": "markdown",
   "id": "0288277d-77ca-4cf0-9729-11e3afabd8c0",
   "metadata": {},
   "source": [
    "# **Parameters**"
   ]
  },
  {
   "cell_type": "code",
   "execution_count": null,
   "id": "b1142bab-d86c-49b0-b063-8cdf74f2c339",
   "metadata": {},
   "outputs": [],
   "source": [
    "datasetDir = '../datasets'\n",
    "modelDir = 'saved_models'"
   ]
  },
  {
   "cell_type": "markdown",
   "id": "a7111665-94df-4948-b03d-e9712554909e",
   "metadata": {},
   "source": [
    "# **Import Libraries**"
   ]
  },
  {
   "cell_type": "code",
   "execution_count": null,
   "id": "a586c293-6b57-4879-bd59-ebb6a799b053",
   "metadata": {},
   "outputs": [],
   "source": [
    "# Import necessary libraries\n",
    "import pandas as pd\n",
    "from transformers import GPT2Tokenizer\n",
    "import json"
   ]
  },
  {
   "cell_type": "markdown",
   "id": "bc8678d0-25d0-4433-933b-02d343e80094",
   "metadata": {},
   "source": [
    "# **Load Dataset**"
   ]
  },
  {
   "cell_type": "code",
   "execution_count": null,
   "id": "b0d80e59-c37b-4e86-bf21-2b1bae41e5e4",
   "metadata": {},
   "outputs": [],
   "source": [
    "# Load dataset (replace with your dataset path)\n",
    "dataset_name = \"path/to/dataset.csv\"  \n",
    "df = pd.read_csv(os.path.join(datasetDir, dataset_name))\n",
    "\n",
    "# Inspect the dataset\n",
    "print(\"Dataset preview:\")\n",
    "print(df.head())"
   ]
  },
  {
   "cell_type": "markdown",
   "id": "7d6f2306-78b6-4689-860f-ddcc907e6bc7",
   "metadata": {},
   "source": [
    "# **Cleaning and Processing Data**"
   ]
  },
  {
   "cell_type": "code",
   "execution_count": null,
   "id": "900f656a-e2db-4852-a308-a276829c2de2",
   "metadata": {},
   "outputs": [],
   "source": [
    "# Data cleaning (remove NaN values, duplicates, etc.)\n",
    "# df = df.dropna().drop_duplicates()\n",
    "\n",
    "# Optional: Convert text to lowercase\n",
    "df[\"input\"] = df[\"input\"].str.lower()\n",
    "df[\"response\"] = df[\"response\"].str.lower()\n",
    "\n",
    "# Preview cleaned dataset\n",
    "print(\"Cleaned dataset preview:\")\n",
    "print(df.head())\n"
   ]
  },
  {
   "cell_type": "markdown",
   "id": "b3042caa-7209-4df0-a334-06868f7eabe2",
   "metadata": {},
   "source": [
    "# Tokenize Data"
   ]
  },
  {
   "cell_type": "code",
   "execution_count": null,
   "id": "f6815263-9567-4d69-8051-d667bd84dd37",
   "metadata": {},
   "outputs": [],
   "source": [
    "# Initialize tokenizer\n",
    "tokenizer = GPT2Tokenizer.from_pretrained(\"gpt2\")\n",
    "tokenizer.add_special_tokens({\"sep_token\": \"<|sep|>\"})  # Adding a special token for input-response separation\n",
    "\n",
    "# Function to tokenize input and response\n",
    "def tokenize_data(data, tokenizer, max_length=128):\n",
    "    input_ids = []\n",
    "    attention_masks = []\n",
    "    \n",
    "    for _, row in data.iterrows():\n",
    "        input_text = row[\"input\"]\n",
    "        response_text = row[\"response\"]\n",
    "        combined_text = f\"{input_text} <|sep|> {response_text}\"\n",
    "        \n",
    "        # Tokenize the combined text\n",
    "        tokens = tokenizer(\n",
    "            combined_text,\n",
    "            max_length=max_length,\n",
    "            truncation=True,\n",
    "            padding=\"max_length\",\n",
    "            return_tensors=\"pt\"\n",
    "        )\n",
    "        \n",
    "        input_ids.append(tokens[\"input_ids\"].squeeze().tolist())\n",
    "        attention_masks.append(tokens[\"attention_mask\"].squeeze().tolist())\n",
    "    \n",
    "    return input_ids, attention_masks\n",
    "\n",
    "# Tokenize the dataset\n",
    "max_length = 128\n",
    "input_ids, attention_masks = tokenize_data(df, tokenizer, max_length)\n",
    "\n",
    "# Save tokenized data into a DataFrame\n",
    "tokenized_data = pd.DataFrame({\n",
    "    \"input_ids\": input_ids,\n",
    "    \"attention_mask\": attention_masks\n",
    "})\n",
    "\n",
    "# Preview tokenized data\n",
    "print(\"Tokenized data preview:\")\n",
    "print(tokenized_data.head())\n"
   ]
  },
  {
   "cell_type": "markdown",
   "id": "aa246bd4-d88f-4828-b3a1-6267cc10aeca",
   "metadata": {},
   "source": [
    "# **Save Preprocessed Data**"
   ]
  },
  {
   "cell_type": "code",
   "execution_count": null,
   "id": "9f3b353b-74aa-40eb-8d78-bb476b18aad4",
   "metadata": {},
   "outputs": [],
   "source": [
    "# Save preprocessed and tokenized data to a JSON file for later use\n",
    "# preprocessed_data_path = \"preprocessed_data.json\"\n",
    "\n",
    "# tokenized_data.to_json(preprocessed_data_path, orient=\"records\", lines=True)\n",
    "\n",
    "# print(f\"Preprocessed data saved to {preprocessed_data_path}\")"
   ]
  }
 ],
 "metadata": {
  "kernelspec": {
   "display_name": "Python 3 (ipykernel)",
   "language": "python",
   "name": "python3"
  },
  "language_info": {
   "codemirror_mode": {
    "name": "ipython",
    "version": 3
   },
   "file_extension": ".py",
   "mimetype": "text/x-python",
   "name": "python",
   "nbconvert_exporter": "python",
   "pygments_lexer": "ipython3",
   "version": "3.12.4"
  }
 },
 "nbformat": 4,
 "nbformat_minor": 5
}
